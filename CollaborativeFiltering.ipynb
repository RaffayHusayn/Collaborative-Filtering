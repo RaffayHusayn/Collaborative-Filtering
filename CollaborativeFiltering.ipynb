{
  "nbformat": 4,
  "nbformat_minor": 0,
  "metadata": {
    "colab": {
      "name": "CollaborativeFiltering.ipynb",
      "provenance": [],
      "collapsed_sections": [],
      "machine_shape": "hm",
      "include_colab_link": true
    },
    "kernelspec": {
      "name": "python3",
      "display_name": "Python 3"
    },
    "accelerator": "GPU"
  },
  "cells": [
    {
      "cell_type": "markdown",
      "metadata": {
        "id": "view-in-github",
        "colab_type": "text"
      },
      "source": [
        "<a href=\"https://colab.research.google.com/github/RaffayHusayn/Collaborative-Filtering/blob/master/CollaborativeFiltering.ipynb\" target=\"_parent\"><img src=\"https://colab.research.google.com/assets/colab-badge.svg\" alt=\"Open In Colab\"/></a>"
      ]
    },
    {
      "cell_type": "code",
      "metadata": {
        "id": "xJnGScGhHVD1",
        "colab_type": "code",
        "colab": {}
      },
      "source": [
        "import pandas as pd\n",
        "import numpy as np\n",
        "import matplotlib.pyplot as plt\n",
        "import warnings\n",
        "warnings.filterwarnings('ignore')\n"
      ],
      "execution_count": null,
      "outputs": []
    },
    {
      "cell_type": "code",
      "metadata": {
        "id": "7vy996jwTxz7",
        "colab_type": "code",
        "colab": {
          "base_uri": "https://localhost:8080/",
          "height": 34
        },
        "outputId": "3a8a073a-3802-4150-c3a9-1160d045dc9e"
      },
      "source": [
        "from google.colab import drive\n",
        "drive.mount('/content/gdrive')\n"
      ],
      "execution_count": null,
      "outputs": [
        {
          "output_type": "stream",
          "text": [
            "Drive already mounted at /content/gdrive; to attempt to forcibly remount, call drive.mount(\"/content/gdrive\", force_remount=True).\n"
          ],
          "name": "stdout"
        }
      ]
    },
    {
      "cell_type": "code",
      "metadata": {
        "id": "h9-oWfoqUcdC",
        "colab_type": "code",
        "colab": {}
      },
      "source": [
        "root_path = '/content/gdrive/My Drive/Colab Notebooks/The Movie Dataset Extracted'\n",
        "dataset = pd.read_csv(root_path+\"/ratings_small.csv\", sep = ',')"
      ],
      "execution_count": null,
      "outputs": []
    },
    {
      "cell_type": "code",
      "metadata": {
        "id": "dQxKJ2iTV-0i",
        "colab_type": "code",
        "colab": {
          "base_uri": "https://localhost:8080/",
          "height": 195
        },
        "outputId": "c1bb24f8-681b-46f4-da87-90b0fbbf22cc"
      },
      "source": [
        "dataset.head()"
      ],
      "execution_count": null,
      "outputs": [
        {
          "output_type": "execute_result",
          "data": {
            "text/html": [
              "<div>\n",
              "<style scoped>\n",
              "    .dataframe tbody tr th:only-of-type {\n",
              "        vertical-align: middle;\n",
              "    }\n",
              "\n",
              "    .dataframe tbody tr th {\n",
              "        vertical-align: top;\n",
              "    }\n",
              "\n",
              "    .dataframe thead th {\n",
              "        text-align: right;\n",
              "    }\n",
              "</style>\n",
              "<table border=\"1\" class=\"dataframe\">\n",
              "  <thead>\n",
              "    <tr style=\"text-align: right;\">\n",
              "      <th></th>\n",
              "      <th>userId</th>\n",
              "      <th>movieId</th>\n",
              "      <th>rating</th>\n",
              "      <th>timestamp</th>\n",
              "    </tr>\n",
              "  </thead>\n",
              "  <tbody>\n",
              "    <tr>\n",
              "      <th>0</th>\n",
              "      <td>1</td>\n",
              "      <td>31</td>\n",
              "      <td>2.5</td>\n",
              "      <td>1260759144</td>\n",
              "    </tr>\n",
              "    <tr>\n",
              "      <th>1</th>\n",
              "      <td>1</td>\n",
              "      <td>1029</td>\n",
              "      <td>3.0</td>\n",
              "      <td>1260759179</td>\n",
              "    </tr>\n",
              "    <tr>\n",
              "      <th>2</th>\n",
              "      <td>1</td>\n",
              "      <td>1061</td>\n",
              "      <td>3.0</td>\n",
              "      <td>1260759182</td>\n",
              "    </tr>\n",
              "    <tr>\n",
              "      <th>3</th>\n",
              "      <td>1</td>\n",
              "      <td>1129</td>\n",
              "      <td>2.0</td>\n",
              "      <td>1260759185</td>\n",
              "    </tr>\n",
              "    <tr>\n",
              "      <th>4</th>\n",
              "      <td>1</td>\n",
              "      <td>1172</td>\n",
              "      <td>4.0</td>\n",
              "      <td>1260759205</td>\n",
              "    </tr>\n",
              "  </tbody>\n",
              "</table>\n",
              "</div>"
            ],
            "text/plain": [
              "   userId  movieId  rating   timestamp\n",
              "0       1       31     2.5  1260759144\n",
              "1       1     1029     3.0  1260759179\n",
              "2       1     1061     3.0  1260759182\n",
              "3       1     1129     2.0  1260759185\n",
              "4       1     1172     4.0  1260759205"
            ]
          },
          "metadata": {
            "tags": []
          },
          "execution_count": 10
        }
      ]
    },
    {
      "cell_type": "code",
      "metadata": {
        "id": "ZMQkRH01XsTL",
        "colab_type": "code",
        "colab": {
          "base_uri": "https://localhost:8080/",
          "height": 34
        },
        "outputId": "02ba40f8-3920-4ba6-c49b-f7af2e2f072c"
      },
      "source": [
        "len(dataset.userId.unique())"
      ],
      "execution_count": null,
      "outputs": [
        {
          "output_type": "execute_result",
          "data": {
            "text/plain": [
              "671"
            ]
          },
          "metadata": {
            "tags": []
          },
          "execution_count": 11
        }
      ]
    },
    {
      "cell_type": "code",
      "metadata": {
        "id": "ieOE2lh-Z-Qs",
        "colab_type": "code",
        "colab": {
          "base_uri": "https://localhost:8080/",
          "height": 34
        },
        "outputId": "ac438552-a65e-42f7-8638-da2247a21a54"
      },
      "source": [
        "len(dataset.movieId.unique())"
      ],
      "execution_count": null,
      "outputs": [
        {
          "output_type": "execute_result",
          "data": {
            "text/plain": [
              "9066"
            ]
          },
          "metadata": {
            "tags": []
          },
          "execution_count": 12
        }
      ]
    },
    {
      "cell_type": "code",
      "metadata": {
        "id": "d2XU-73tanyy",
        "colab_type": "code",
        "colab": {}
      },
      "source": [
        "from sklearn.model_selection import train_test_split\n",
        "train , test = train_test_split(dataset,test_size= 0.2) "
      ],
      "execution_count": null,
      "outputs": []
    },
    {
      "cell_type": "code",
      "metadata": {
        "id": "-gd2ENyDa-HY",
        "colab_type": "code",
        "colab": {
          "base_uri": "https://localhost:8080/",
          "height": 994
        },
        "outputId": "41822c00-f91e-411d-d6b9-e6516ca60190"
      },
      "source": [
        "train.head(32)"
      ],
      "execution_count": null,
      "outputs": [
        {
          "output_type": "execute_result",
          "data": {
            "text/html": [
              "<div>\n",
              "<style scoped>\n",
              "    .dataframe tbody tr th:only-of-type {\n",
              "        vertical-align: middle;\n",
              "    }\n",
              "\n",
              "    .dataframe tbody tr th {\n",
              "        vertical-align: top;\n",
              "    }\n",
              "\n",
              "    .dataframe thead th {\n",
              "        text-align: right;\n",
              "    }\n",
              "</style>\n",
              "<table border=\"1\" class=\"dataframe\">\n",
              "  <thead>\n",
              "    <tr style=\"text-align: right;\">\n",
              "      <th></th>\n",
              "      <th>userId</th>\n",
              "      <th>movieId</th>\n",
              "      <th>rating</th>\n",
              "      <th>timestamp</th>\n",
              "    </tr>\n",
              "  </thead>\n",
              "  <tbody>\n",
              "    <tr>\n",
              "      <th>60119</th>\n",
              "      <td>434</td>\n",
              "      <td>595</td>\n",
              "      <td>5.0</td>\n",
              "      <td>886374784</td>\n",
              "    </tr>\n",
              "    <tr>\n",
              "      <th>26573</th>\n",
              "      <td>195</td>\n",
              "      <td>2617</td>\n",
              "      <td>3.0</td>\n",
              "      <td>975418661</td>\n",
              "    </tr>\n",
              "    <tr>\n",
              "      <th>65108</th>\n",
              "      <td>463</td>\n",
              "      <td>2735</td>\n",
              "      <td>3.0</td>\n",
              "      <td>1051712464</td>\n",
              "    </tr>\n",
              "    <tr>\n",
              "      <th>90794</th>\n",
              "      <td>603</td>\n",
              "      <td>1017</td>\n",
              "      <td>4.0</td>\n",
              "      <td>868355519</td>\n",
              "    </tr>\n",
              "    <tr>\n",
              "      <th>68342</th>\n",
              "      <td>475</td>\n",
              "      <td>5952</td>\n",
              "      <td>5.0</td>\n",
              "      <td>1446908199</td>\n",
              "    </tr>\n",
              "    <tr>\n",
              "      <th>43148</th>\n",
              "      <td>308</td>\n",
              "      <td>407</td>\n",
              "      <td>1.0</td>\n",
              "      <td>854376743</td>\n",
              "    </tr>\n",
              "    <tr>\n",
              "      <th>21571</th>\n",
              "      <td>150</td>\n",
              "      <td>1617</td>\n",
              "      <td>3.0</td>\n",
              "      <td>1114306474</td>\n",
              "    </tr>\n",
              "    <tr>\n",
              "      <th>88186</th>\n",
              "      <td>587</td>\n",
              "      <td>265</td>\n",
              "      <td>3.5</td>\n",
              "      <td>1111102715</td>\n",
              "    </tr>\n",
              "    <tr>\n",
              "      <th>23296</th>\n",
              "      <td>165</td>\n",
              "      <td>1259</td>\n",
              "      <td>3.5</td>\n",
              "      <td>1111479987</td>\n",
              "    </tr>\n",
              "    <tr>\n",
              "      <th>43821</th>\n",
              "      <td>311</td>\n",
              "      <td>1936</td>\n",
              "      <td>3.5</td>\n",
              "      <td>1077051541</td>\n",
              "    </tr>\n",
              "    <tr>\n",
              "      <th>77763</th>\n",
              "      <td>537</td>\n",
              "      <td>1302</td>\n",
              "      <td>3.0</td>\n",
              "      <td>879502735</td>\n",
              "    </tr>\n",
              "    <tr>\n",
              "      <th>4552</th>\n",
              "      <td>23</td>\n",
              "      <td>5902</td>\n",
              "      <td>5.0</td>\n",
              "      <td>1148671465</td>\n",
              "    </tr>\n",
              "    <tr>\n",
              "      <th>81756</th>\n",
              "      <td>558</td>\n",
              "      <td>3055</td>\n",
              "      <td>3.0</td>\n",
              "      <td>965861707</td>\n",
              "    </tr>\n",
              "    <tr>\n",
              "      <th>38100</th>\n",
              "      <td>275</td>\n",
              "      <td>67255</td>\n",
              "      <td>0.5</td>\n",
              "      <td>1345335307</td>\n",
              "    </tr>\n",
              "    <tr>\n",
              "      <th>35904</th>\n",
              "      <td>260</td>\n",
              "      <td>1210</td>\n",
              "      <td>5.0</td>\n",
              "      <td>1207887704</td>\n",
              "    </tr>\n",
              "    <tr>\n",
              "      <th>452</th>\n",
              "      <td>6</td>\n",
              "      <td>158</td>\n",
              "      <td>2.0</td>\n",
              "      <td>1108134263</td>\n",
              "    </tr>\n",
              "    <tr>\n",
              "      <th>90142</th>\n",
              "      <td>598</td>\n",
              "      <td>2702</td>\n",
              "      <td>2.0</td>\n",
              "      <td>1008570798</td>\n",
              "    </tr>\n",
              "    <tr>\n",
              "      <th>92041</th>\n",
              "      <td>608</td>\n",
              "      <td>2762</td>\n",
              "      <td>4.0</td>\n",
              "      <td>958824170</td>\n",
              "    </tr>\n",
              "    <tr>\n",
              "      <th>2462</th>\n",
              "      <td>15</td>\n",
              "      <td>96610</td>\n",
              "      <td>1.5</td>\n",
              "      <td>1374637996</td>\n",
              "    </tr>\n",
              "    <tr>\n",
              "      <th>56793</th>\n",
              "      <td>408</td>\n",
              "      <td>1429</td>\n",
              "      <td>5.0</td>\n",
              "      <td>933037039</td>\n",
              "    </tr>\n",
              "    <tr>\n",
              "      <th>39585</th>\n",
              "      <td>288</td>\n",
              "      <td>355</td>\n",
              "      <td>3.0</td>\n",
              "      <td>845862723</td>\n",
              "    </tr>\n",
              "    <tr>\n",
              "      <th>54234</th>\n",
              "      <td>388</td>\n",
              "      <td>3911</td>\n",
              "      <td>4.0</td>\n",
              "      <td>993142409</td>\n",
              "    </tr>\n",
              "    <tr>\n",
              "      <th>84099</th>\n",
              "      <td>564</td>\n",
              "      <td>2533</td>\n",
              "      <td>4.0</td>\n",
              "      <td>974714807</td>\n",
              "    </tr>\n",
              "    <tr>\n",
              "      <th>21204</th>\n",
              "      <td>149</td>\n",
              "      <td>47</td>\n",
              "      <td>3.5</td>\n",
              "      <td>1436922267</td>\n",
              "    </tr>\n",
              "    <tr>\n",
              "      <th>79435</th>\n",
              "      <td>547</td>\n",
              "      <td>4188</td>\n",
              "      <td>4.0</td>\n",
              "      <td>1021572916</td>\n",
              "    </tr>\n",
              "    <tr>\n",
              "      <th>53757</th>\n",
              "      <td>388</td>\n",
              "      <td>441</td>\n",
              "      <td>4.0</td>\n",
              "      <td>999578153</td>\n",
              "    </tr>\n",
              "    <tr>\n",
              "      <th>23358</th>\n",
              "      <td>165</td>\n",
              "      <td>2054</td>\n",
              "      <td>3.0</td>\n",
              "      <td>1111479052</td>\n",
              "    </tr>\n",
              "    <tr>\n",
              "      <th>32324</th>\n",
              "      <td>233</td>\n",
              "      <td>14</td>\n",
              "      <td>3.0</td>\n",
              "      <td>854481720</td>\n",
              "    </tr>\n",
              "    <tr>\n",
              "      <th>97960</th>\n",
              "      <td>654</td>\n",
              "      <td>5444</td>\n",
              "      <td>4.5</td>\n",
              "      <td>1145390898</td>\n",
              "    </tr>\n",
              "    <tr>\n",
              "      <th>12782</th>\n",
              "      <td>81</td>\n",
              "      <td>5105</td>\n",
              "      <td>3.0</td>\n",
              "      <td>1307171929</td>\n",
              "    </tr>\n",
              "    <tr>\n",
              "      <th>89158</th>\n",
              "      <td>594</td>\n",
              "      <td>2759</td>\n",
              "      <td>4.0</td>\n",
              "      <td>938947494</td>\n",
              "    </tr>\n",
              "    <tr>\n",
              "      <th>47784</th>\n",
              "      <td>352</td>\n",
              "      <td>32456</td>\n",
              "      <td>3.0</td>\n",
              "      <td>1420521962</td>\n",
              "    </tr>\n",
              "  </tbody>\n",
              "</table>\n",
              "</div>"
            ],
            "text/plain": [
              "       userId  movieId  rating   timestamp\n",
              "60119     434      595     5.0   886374784\n",
              "26573     195     2617     3.0   975418661\n",
              "65108     463     2735     3.0  1051712464\n",
              "90794     603     1017     4.0   868355519\n",
              "68342     475     5952     5.0  1446908199\n",
              "43148     308      407     1.0   854376743\n",
              "21571     150     1617     3.0  1114306474\n",
              "88186     587      265     3.5  1111102715\n",
              "23296     165     1259     3.5  1111479987\n",
              "43821     311     1936     3.5  1077051541\n",
              "77763     537     1302     3.0   879502735\n",
              "4552       23     5902     5.0  1148671465\n",
              "81756     558     3055     3.0   965861707\n",
              "38100     275    67255     0.5  1345335307\n",
              "35904     260     1210     5.0  1207887704\n",
              "452         6      158     2.0  1108134263\n",
              "90142     598     2702     2.0  1008570798\n",
              "92041     608     2762     4.0   958824170\n",
              "2462       15    96610     1.5  1374637996\n",
              "56793     408     1429     5.0   933037039\n",
              "39585     288      355     3.0   845862723\n",
              "54234     388     3911     4.0   993142409\n",
              "84099     564     2533     4.0   974714807\n",
              "21204     149       47     3.5  1436922267\n",
              "79435     547     4188     4.0  1021572916\n",
              "53757     388      441     4.0   999578153\n",
              "23358     165     2054     3.0  1111479052\n",
              "32324     233       14     3.0   854481720\n",
              "97960     654     5444     4.5  1145390898\n",
              "12782      81     5105     3.0  1307171929\n",
              "89158     594     2759     4.0   938947494\n",
              "47784     352    32456     3.0  1420521962"
            ]
          },
          "metadata": {
            "tags": []
          },
          "execution_count": 14
        }
      ]
    },
    {
      "cell_type": "code",
      "metadata": {
        "id": "lqEMCXmTbCoZ",
        "colab_type": "code",
        "colab": {
          "base_uri": "https://localhost:8080/",
          "height": 491
        },
        "outputId": "149f5aca-a108-4c18-dad4-7dfd34ab7427"
      },
      "source": [
        "test.head(15)"
      ],
      "execution_count": null,
      "outputs": [
        {
          "output_type": "execute_result",
          "data": {
            "text/html": [
              "<div>\n",
              "<style scoped>\n",
              "    .dataframe tbody tr th:only-of-type {\n",
              "        vertical-align: middle;\n",
              "    }\n",
              "\n",
              "    .dataframe tbody tr th {\n",
              "        vertical-align: top;\n",
              "    }\n",
              "\n",
              "    .dataframe thead th {\n",
              "        text-align: right;\n",
              "    }\n",
              "</style>\n",
              "<table border=\"1\" class=\"dataframe\">\n",
              "  <thead>\n",
              "    <tr style=\"text-align: right;\">\n",
              "      <th></th>\n",
              "      <th>userId</th>\n",
              "      <th>movieId</th>\n",
              "      <th>rating</th>\n",
              "      <th>timestamp</th>\n",
              "    </tr>\n",
              "  </thead>\n",
              "  <tbody>\n",
              "    <tr>\n",
              "      <th>87093</th>\n",
              "      <td>580</td>\n",
              "      <td>4963</td>\n",
              "      <td>1.5</td>\n",
              "      <td>1167156856</td>\n",
              "    </tr>\n",
              "    <tr>\n",
              "      <th>5700</th>\n",
              "      <td>30</td>\n",
              "      <td>3316</td>\n",
              "      <td>2.0</td>\n",
              "      <td>994439603</td>\n",
              "    </tr>\n",
              "    <tr>\n",
              "      <th>5053</th>\n",
              "      <td>30</td>\n",
              "      <td>14</td>\n",
              "      <td>4.0</td>\n",
              "      <td>945276564</td>\n",
              "    </tr>\n",
              "    <tr>\n",
              "      <th>5081</th>\n",
              "      <td>30</td>\n",
              "      <td>203</td>\n",
              "      <td>3.0</td>\n",
              "      <td>994458432</td>\n",
              "    </tr>\n",
              "    <tr>\n",
              "      <th>62330</th>\n",
              "      <td>452</td>\n",
              "      <td>4025</td>\n",
              "      <td>1.5</td>\n",
              "      <td>1151811810</td>\n",
              "    </tr>\n",
              "    <tr>\n",
              "      <th>61774</th>\n",
              "      <td>452</td>\n",
              "      <td>1480</td>\n",
              "      <td>3.0</td>\n",
              "      <td>1077114310</td>\n",
              "    </tr>\n",
              "    <tr>\n",
              "      <th>622</th>\n",
              "      <td>8</td>\n",
              "      <td>1674</td>\n",
              "      <td>4.0</td>\n",
              "      <td>1154389491</td>\n",
              "    </tr>\n",
              "    <tr>\n",
              "      <th>75858</th>\n",
              "      <td>527</td>\n",
              "      <td>55267</td>\n",
              "      <td>5.0</td>\n",
              "      <td>1281232639</td>\n",
              "    </tr>\n",
              "    <tr>\n",
              "      <th>86387</th>\n",
              "      <td>577</td>\n",
              "      <td>5502</td>\n",
              "      <td>4.0</td>\n",
              "      <td>1111551392</td>\n",
              "    </tr>\n",
              "    <tr>\n",
              "      <th>22725</th>\n",
              "      <td>159</td>\n",
              "      <td>1580</td>\n",
              "      <td>3.5</td>\n",
              "      <td>1183519595</td>\n",
              "    </tr>\n",
              "    <tr>\n",
              "      <th>91206</th>\n",
              "      <td>605</td>\n",
              "      <td>3102</td>\n",
              "      <td>3.0</td>\n",
              "      <td>980195704</td>\n",
              "    </tr>\n",
              "    <tr>\n",
              "      <th>48346</th>\n",
              "      <td>354</td>\n",
              "      <td>165</td>\n",
              "      <td>2.0</td>\n",
              "      <td>846062521</td>\n",
              "    </tr>\n",
              "    <tr>\n",
              "      <th>25442</th>\n",
              "      <td>187</td>\n",
              "      <td>344</td>\n",
              "      <td>3.0</td>\n",
              "      <td>1228072670</td>\n",
              "    </tr>\n",
              "    <tr>\n",
              "      <th>95536</th>\n",
              "      <td>627</td>\n",
              "      <td>858</td>\n",
              "      <td>5.0</td>\n",
              "      <td>1201378600</td>\n",
              "    </tr>\n",
              "    <tr>\n",
              "      <th>36716</th>\n",
              "      <td>263</td>\n",
              "      <td>2617</td>\n",
              "      <td>3.0</td>\n",
              "      <td>1117843755</td>\n",
              "    </tr>\n",
              "  </tbody>\n",
              "</table>\n",
              "</div>"
            ],
            "text/plain": [
              "       userId  movieId  rating   timestamp\n",
              "87093     580     4963     1.5  1167156856\n",
              "5700       30     3316     2.0   994439603\n",
              "5053       30       14     4.0   945276564\n",
              "5081       30      203     3.0   994458432\n",
              "62330     452     4025     1.5  1151811810\n",
              "61774     452     1480     3.0  1077114310\n",
              "622         8     1674     4.0  1154389491\n",
              "75858     527    55267     5.0  1281232639\n",
              "86387     577     5502     4.0  1111551392\n",
              "22725     159     1580     3.5  1183519595\n",
              "91206     605     3102     3.0   980195704\n",
              "48346     354      165     2.0   846062521\n",
              "25442     187      344     3.0  1228072670\n",
              "95536     627      858     5.0  1201378600\n",
              "36716     263     2617     3.0  1117843755"
            ]
          },
          "metadata": {
            "tags": []
          },
          "execution_count": 15
        }
      ]
    },
    {
      "cell_type": "code",
      "metadata": {
        "id": "8mi_ArIVbD6J",
        "colab_type": "code",
        "colab": {
          "base_uri": "https://localhost:8080/",
          "height": 34
        },
        "outputId": "bdd80de8-e535-415c-d3ed-911f8426bf07"
      },
      "source": [
        "len(test), len(train)"
      ],
      "execution_count": null,
      "outputs": [
        {
          "output_type": "execute_result",
          "data": {
            "text/plain": [
              "(20001, 80003)"
            ]
          },
          "metadata": {
            "tags": []
          },
          "execution_count": 16
        }
      ]
    },
    {
      "cell_type": "code",
      "metadata": {
        "id": "pJej9QUk9Mhw",
        "colab_type": "code",
        "colab": {
          "base_uri": "https://localhost:8080/",
          "height": 34
        },
        "outputId": "dfc18341-c154-48e0-8d9e-9bcdb13a0cd5"
      },
      "source": [
        "len(dataset.userId.unique()),len(dataset.movieId.unique())"
      ],
      "execution_count": null,
      "outputs": [
        {
          "output_type": "execute_result",
          "data": {
            "text/plain": [
              "(671, 9066)"
            ]
          },
          "metadata": {
            "tags": []
          },
          "execution_count": 17
        }
      ]
    },
    {
      "cell_type": "code",
      "metadata": {
        "id": "2YdbK3NS_Kbn",
        "colab_type": "code",
        "colab": {
          "base_uri": "https://localhost:8080/",
          "height": 402
        },
        "outputId": "fb9a8d5c-8c91-4cc7-ea4d-11c8d6931c2a"
      },
      "source": [
        "dataset"
      ],
      "execution_count": null,
      "outputs": [
        {
          "output_type": "execute_result",
          "data": {
            "text/html": [
              "<div>\n",
              "<style scoped>\n",
              "    .dataframe tbody tr th:only-of-type {\n",
              "        vertical-align: middle;\n",
              "    }\n",
              "\n",
              "    .dataframe tbody tr th {\n",
              "        vertical-align: top;\n",
              "    }\n",
              "\n",
              "    .dataframe thead th {\n",
              "        text-align: right;\n",
              "    }\n",
              "</style>\n",
              "<table border=\"1\" class=\"dataframe\">\n",
              "  <thead>\n",
              "    <tr style=\"text-align: right;\">\n",
              "      <th></th>\n",
              "      <th>userId</th>\n",
              "      <th>movieId</th>\n",
              "      <th>rating</th>\n",
              "      <th>timestamp</th>\n",
              "    </tr>\n",
              "  </thead>\n",
              "  <tbody>\n",
              "    <tr>\n",
              "      <th>0</th>\n",
              "      <td>1</td>\n",
              "      <td>31</td>\n",
              "      <td>2.5</td>\n",
              "      <td>1260759144</td>\n",
              "    </tr>\n",
              "    <tr>\n",
              "      <th>1</th>\n",
              "      <td>1</td>\n",
              "      <td>1029</td>\n",
              "      <td>3.0</td>\n",
              "      <td>1260759179</td>\n",
              "    </tr>\n",
              "    <tr>\n",
              "      <th>2</th>\n",
              "      <td>1</td>\n",
              "      <td>1061</td>\n",
              "      <td>3.0</td>\n",
              "      <td>1260759182</td>\n",
              "    </tr>\n",
              "    <tr>\n",
              "      <th>3</th>\n",
              "      <td>1</td>\n",
              "      <td>1129</td>\n",
              "      <td>2.0</td>\n",
              "      <td>1260759185</td>\n",
              "    </tr>\n",
              "    <tr>\n",
              "      <th>4</th>\n",
              "      <td>1</td>\n",
              "      <td>1172</td>\n",
              "      <td>4.0</td>\n",
              "      <td>1260759205</td>\n",
              "    </tr>\n",
              "    <tr>\n",
              "      <th>...</th>\n",
              "      <td>...</td>\n",
              "      <td>...</td>\n",
              "      <td>...</td>\n",
              "      <td>...</td>\n",
              "    </tr>\n",
              "    <tr>\n",
              "      <th>99999</th>\n",
              "      <td>671</td>\n",
              "      <td>6268</td>\n",
              "      <td>2.5</td>\n",
              "      <td>1065579370</td>\n",
              "    </tr>\n",
              "    <tr>\n",
              "      <th>100000</th>\n",
              "      <td>671</td>\n",
              "      <td>6269</td>\n",
              "      <td>4.0</td>\n",
              "      <td>1065149201</td>\n",
              "    </tr>\n",
              "    <tr>\n",
              "      <th>100001</th>\n",
              "      <td>671</td>\n",
              "      <td>6365</td>\n",
              "      <td>4.0</td>\n",
              "      <td>1070940363</td>\n",
              "    </tr>\n",
              "    <tr>\n",
              "      <th>100002</th>\n",
              "      <td>671</td>\n",
              "      <td>6385</td>\n",
              "      <td>2.5</td>\n",
              "      <td>1070979663</td>\n",
              "    </tr>\n",
              "    <tr>\n",
              "      <th>100003</th>\n",
              "      <td>671</td>\n",
              "      <td>6565</td>\n",
              "      <td>3.5</td>\n",
              "      <td>1074784724</td>\n",
              "    </tr>\n",
              "  </tbody>\n",
              "</table>\n",
              "<p>100004 rows × 4 columns</p>\n",
              "</div>"
            ],
            "text/plain": [
              "        userId  movieId  rating   timestamp\n",
              "0            1       31     2.5  1260759144\n",
              "1            1     1029     3.0  1260759179\n",
              "2            1     1061     3.0  1260759182\n",
              "3            1     1129     2.0  1260759185\n",
              "4            1     1172     4.0  1260759205\n",
              "...        ...      ...     ...         ...\n",
              "99999      671     6268     2.5  1065579370\n",
              "100000     671     6269     4.0  1065149201\n",
              "100001     671     6365     4.0  1070940363\n",
              "100002     671     6385     2.5  1070979663\n",
              "100003     671     6565     3.5  1074784724\n",
              "\n",
              "[100004 rows x 4 columns]"
            ]
          },
          "metadata": {
            "tags": []
          },
          "execution_count": 18
        }
      ]
    },
    {
      "cell_type": "code",
      "metadata": {
        "id": "LLINhLOI-mad",
        "colab_type": "code",
        "colab": {}
      },
      "source": [
        "import tensorflow as tf\n",
        "print (tf.__version__)"
      ],
      "execution_count": null,
      "outputs": []
    },
    {
      "cell_type": "code",
      "metadata": {
        "id": "bGEZBY8U3hNA",
        "colab_type": "code",
        "colab": {
          "base_uri": "https://localhost:8080/",
          "height": 34
        },
        "outputId": "939864cd-8f2d-41f2-83d6-5ca27d4b9b04"
      },
      "source": [
        "max_movieId = dataset[\"movieId\"].max()\n",
        "print(max_movieId)\n",
        "max_userId = dataset[\"userId\"].max()"
      ],
      "execution_count": null,
      "outputs": [
        {
          "output_type": "stream",
          "text": [
            "163949\n"
          ],
          "name": "stdout"
        }
      ]
    },
    {
      "cell_type": "code",
      "metadata": {
        "id": "vD_Wq1yhLZ0m",
        "colab_type": "code",
        "colab": {
          "base_uri": "https://localhost:8080/",
          "height": 50
        },
        "outputId": "6c84633b-a518-4810-967c-2de935f6da10"
      },
      "source": [
        "max_movieId = dataset[\"movieId\"].max()\n",
        "print(max_movieId)\n",
        "max_userId = dataset[\"userId\"].max()\n",
        "print(max_userId)"
      ],
      "execution_count": null,
      "outputs": [
        {
          "output_type": "stream",
          "text": [
            "163949\n",
            "671\n"
          ],
          "name": "stdout"
        }
      ]
    },
    {
      "cell_type": "code",
      "metadata": {
        "id": "9Og5cYk5-7io",
        "colab_type": "code",
        "colab": {}
      },
      "source": [
        "import keras\n",
        "from keras.optimizers import Adam\n",
        "from keras.layers import Dense, Dropout\n",
        "n_latent_factors_users = 10\n",
        "n_latent_factors_movie =10\n",
        "n_latent_factors_mf = 10\n",
        "max_movieId = dataset[\"movieId\"].max()\n",
        "max_userId = dataset[\"userId\"].max()\n",
        "n_users, n_movies = len(dataset.userId.unique()), len(dataset.movieId.unique())#dont use this in embedding layer because the vocabulary size will be the number of unique\n",
        "#movies and we wouldn't be able to test movies which have a bigger movieId than total no of unique movies in the dataset\n",
        "\n",
        "#defining the shape of the input tensor\n",
        "movie_input = keras.layers.Input(shape= [1], name ='Item')\n",
        "\n",
        "movie_embedding_mlp = keras.layers.Embedding(max_movieId + 1, n_latent_factors_movie, name='Movie-Embeddding-MLP') (movie_input)\n",
        "movie_vec_mlp = keras.layers.Flatten(name='FlattenMovies-MLP')(movie_embedding_mlp)\n",
        "movie_vec_mlp = keras.layers.Dropout(0.5)(movie_vec_mlp)\n",
        "\n",
        "movie_embedding_mf = keras.layers.Embedding(max_movieId + 1, n_latent_factors_mf, name='Movie-Embedding-MF')(movie_input)\n",
        "movie_vec_mf = keras.layers.Flatten(name= 'FlattenMovie-MF')(movie_embedding_mf)\n",
        "movie_vec_mf = keras.layers.Dropout(0.5)(movie_vec_mf)\n",
        "\n",
        "\n",
        "\n",
        "user_input = keras.layers.Input( shape= [1] , name ='User')\n",
        "user_vec_mlp = keras.layers.Flatten(name='FlattenUser-MLP')(keras.layers.Embedding(n_users +1, n_latent_factors_users, name='User_Embedding_MLP')(user_input))\n",
        "user_vec_mlp = keras.layers.Dropout(0.5)(user_vec_mlp)\n",
        "\n",
        "user_vec_mf = keras.layers.Flatten(name='FlattenUsers-MF')(keras.layers.Embedding(n_users +1, n_latent_factors_mf , name='User-Embedding-MF')(user_input))\n",
        "user_vec_mf = keras.layers.Dropout(0.5)(user_vec_mf)\n",
        "\n",
        "#merging the layers\n",
        "concat = keras.layers.concatenate([movie_vec_mlp, user_vec_mlp],name='Concat')\n",
        "concat_dropout = keras.layers.Dropout(0.2)(concat)\n",
        "dense = keras.layers.Dense(200,name='FullyConnected')(concat_dropout)\n",
        "dense_batch = keras.layers.BatchNormalization(name='Batch')(dense)\n",
        "dropout_1 = keras.layers.Dropout(0.2,name='Dropout-1')(dense_batch)\n",
        "dense_2 = keras.layers.Dense(100,name='FullyConnected-1')(dropout_1)\n",
        "dense_batch_2 = keras.layers.BatchNormalization(name='Batch-2')(dense_2)\n",
        "\n",
        "\n",
        "dropout_2 = keras.layers.Dropout(0.2,name='Dropout-2')(dense_batch_2)\n",
        "dense_3 = keras.layers.Dense(50,name='FullyConnected-2')(dropout_2)\n",
        "dense_4 = keras.layers.Dense(20,name='FullyConnected-3', activation='relu')(dense_3)\n",
        "\n",
        "pred_mf = keras.layers.dot([movie_vec_mf, user_vec_mf], axes= 1 , name='Dot')\n",
        "\n",
        "\n",
        "pred_mlp = keras.layers.Dense(1, activation='relu',name='Activation')(dense_4)\n",
        "\n",
        "combine_mlp_mf = keras.layers.concatenate([pred_mf, pred_mlp], name='Concat-MF-MLP')\n",
        "result_combine = keras.layers.Dense(100,name='Combine-MF-MLP')(combine_mlp_mf)\n",
        "deep_combine = keras.layers.Dense(100,name='FullyConnected-4')(result_combine)\n",
        "\n",
        "\n",
        "result = keras.layers.Dense(1,name='Prediction')(deep_combine)\n",
        "\n",
        "\n",
        "model = keras.Model([user_input, movie_input], result)\n",
        "opt = keras.optimizers.Adam(lr =0.01)\n",
        "model.compile(optimizer='adam',loss= 'mean_squared_error')"
      ],
      "execution_count": null,
      "outputs": []
    },
    {
      "cell_type": "code",
      "metadata": {
        "id": "syR33NxVCrau",
        "colab_type": "code",
        "colab": {
          "base_uri": "https://localhost:8080/",
          "height": 994
        },
        "outputId": "cb84e62d-fdf5-41e8-fe56-c95b154eaf38"
      },
      "source": [
        "history = model.fit([train.userId, train.movieId], train.rating, epochs=20, verbose=1, validation_split=0.1)"
      ],
      "execution_count": null,
      "outputs": [
        {
          "output_type": "stream",
          "text": [
            "WARNING:tensorflow:From /usr/local/lib/python3.6/dist-packages/keras/backend/tensorflow_backend.py:1033: The name tf.assign_add is deprecated. Please use tf.compat.v1.assign_add instead.\n",
            "\n",
            "WARNING:tensorflow:From /usr/local/lib/python3.6/dist-packages/keras/backend/tensorflow_backend.py:1020: The name tf.assign is deprecated. Please use tf.compat.v1.assign instead.\n",
            "\n",
            "WARNING:tensorflow:From /usr/local/lib/python3.6/dist-packages/keras/backend/tensorflow_backend.py:3005: The name tf.Session is deprecated. Please use tf.compat.v1.Session instead.\n",
            "\n",
            "Train on 72002 samples, validate on 8001 samples\n",
            "Epoch 1/20\n",
            "WARNING:tensorflow:From /usr/local/lib/python3.6/dist-packages/keras/backend/tensorflow_backend.py:190: The name tf.get_default_session is deprecated. Please use tf.compat.v1.get_default_session instead.\n",
            "\n",
            "WARNING:tensorflow:From /usr/local/lib/python3.6/dist-packages/keras/backend/tensorflow_backend.py:197: The name tf.ConfigProto is deprecated. Please use tf.compat.v1.ConfigProto instead.\n",
            "\n",
            "WARNING:tensorflow:From /usr/local/lib/python3.6/dist-packages/keras/backend/tensorflow_backend.py:207: The name tf.global_variables is deprecated. Please use tf.compat.v1.global_variables instead.\n",
            "\n",
            "WARNING:tensorflow:From /usr/local/lib/python3.6/dist-packages/keras/backend/tensorflow_backend.py:216: The name tf.is_variable_initialized is deprecated. Please use tf.compat.v1.is_variable_initialized instead.\n",
            "\n",
            "WARNING:tensorflow:From /usr/local/lib/python3.6/dist-packages/keras/backend/tensorflow_backend.py:223: The name tf.variables_initializer is deprecated. Please use tf.compat.v1.variables_initializer instead.\n",
            "\n",
            "72002/72002 [==============================] - 38s 534us/step - loss: 1.2040 - val_loss: 1.0118\n",
            "Epoch 2/20\n",
            "72002/72002 [==============================] - 28s 388us/step - loss: 0.9756 - val_loss: 0.9115\n",
            "Epoch 3/20\n",
            "72002/72002 [==============================] - 28s 387us/step - loss: 0.8989 - val_loss: 0.8415\n",
            "Epoch 4/20\n",
            "72002/72002 [==============================] - 28s 382us/step - loss: 0.8499 - val_loss: 0.8341\n",
            "Epoch 5/20\n",
            "72002/72002 [==============================] - 28s 388us/step - loss: 0.8147 - val_loss: 0.8132\n",
            "Epoch 6/20\n",
            "72002/72002 [==============================] - 27s 379us/step - loss: 0.7895 - val_loss: 0.8073\n",
            "Epoch 7/20\n",
            "72002/72002 [==============================] - 27s 381us/step - loss: 0.7589 - val_loss: 0.8224\n",
            "Epoch 8/20\n",
            "72002/72002 [==============================] - 27s 379us/step - loss: 0.7481 - val_loss: 0.8047\n",
            "Epoch 9/20\n",
            "72002/72002 [==============================] - 28s 389us/step - loss: 0.7325 - val_loss: 0.8140\n",
            "Epoch 10/20\n",
            "72002/72002 [==============================] - 28s 390us/step - loss: 0.7223 - val_loss: 0.8008\n",
            "Epoch 11/20\n",
            "72002/72002 [==============================] - 28s 387us/step - loss: 0.7122 - val_loss: 0.7945\n",
            "Epoch 12/20\n",
            "72002/72002 [==============================] - 27s 379us/step - loss: 0.7083 - val_loss: 0.7955\n",
            "Epoch 13/20\n",
            "72002/72002 [==============================] - 28s 388us/step - loss: 0.6903 - val_loss: 0.7932\n",
            "Epoch 14/20\n",
            "72002/72002 [==============================] - 28s 383us/step - loss: 0.6895 - val_loss: 0.7880\n",
            "Epoch 15/20\n",
            "72002/72002 [==============================] - 28s 387us/step - loss: 0.6832 - val_loss: 0.8157\n",
            "Epoch 16/20\n",
            "72002/72002 [==============================] - 28s 386us/step - loss: 0.6799 - val_loss: 0.7924\n",
            "Epoch 17/20\n",
            "72002/72002 [==============================] - 27s 377us/step - loss: 0.6734 - val_loss: 0.7956\n",
            "Epoch 18/20\n",
            "72002/72002 [==============================] - 27s 379us/step - loss: 0.6661 - val_loss: 0.7929\n",
            "Epoch 19/20\n",
            "72002/72002 [==============================] - 27s 378us/step - loss: 0.6656 - val_loss: 0.7872\n",
            "Epoch 20/20\n",
            "72002/72002 [==============================] - 27s 381us/step - loss: 0.6614 - val_loss: 0.7887\n"
          ],
          "name": "stdout"
        }
      ]
    },
    {
      "cell_type": "code",
      "metadata": {
        "id": "yavsG3oWlmKY",
        "colab_type": "code",
        "colab": {
          "base_uri": "https://localhost:8080/",
          "height": 50
        },
        "outputId": "c2cbf434-9216-41e4-9895-7cdf3ac9162f"
      },
      "source": [
        "from sklearn.metrics import mean_absolute_error\n",
        "y_true = test.rating\n",
        "y_hat_2 = np.round(model.predict([test.userId, test.movieId]),0)\n",
        "print(mean_absolute_error(y_true, y_hat_2))\n",
        "\n",
        "print(mean_absolute_error(y_true, model.predict([test.userId, test.movieId])))"
      ],
      "execution_count": null,
      "outputs": [
        {
          "output_type": "stream",
          "text": [
            "0.6700914954252287\n",
            "0.6771892690699098\n"
          ],
          "name": "stdout"
        }
      ]
    },
    {
      "cell_type": "code",
      "metadata": {
        "id": "kGzGNJZ8lnTD",
        "colab_type": "code",
        "colab": {
          "base_uri": "https://localhost:8080/",
          "height": 34
        },
        "outputId": "1093ffa9-51d6-4d02-bff6-0eede587daf8"
      },
      "source": [
        "from sklearn.metrics import mean_squared_error\n",
        "y_true = test.rating\n",
        "y_hat_2 = np.round(model.predict([test.userId, test.movieId]),0)\n",
        "#print(mean_squared_error(y_true, y_hat_2))\n",
        "\n",
        "print(mean_squared_error(y_true, model.predict([test.userId, test.movieId])))"
      ],
      "execution_count": null,
      "outputs": [
        {
          "output_type": "stream",
          "text": [
            "0.7842729922171395\n"
          ],
          "name": "stdout"
        }
      ]
    },
    {
      "cell_type": "code",
      "metadata": {
        "id": "r2P_ZHVldhxK",
        "colab_type": "code",
        "colab": {}
      },
      "source": [
        "model.save('/content/gdrive/My Drive/Colab Notebooks/collab_trained_smaller.h5')"
      ],
      "execution_count": null,
      "outputs": []
    },
    {
      "cell_type": "code",
      "metadata": {
        "id": "6muBXAzMIFJs",
        "colab_type": "code",
        "colab": {
          "base_uri": "https://localhost:8080/",
          "height": 34
        },
        "outputId": "7b559e27-d881-4476-cfc5-db5315a48a8d"
      },
      "source": [
        "prediction= model.predict([test.userId,test.movieId],batch_size =10, verbose=1)"
      ],
      "execution_count": null,
      "outputs": [
        {
          "output_type": "stream",
          "text": [
            "20001/20001 [==============================] - 4s 222us/step\n"
          ],
          "name": "stdout"
        }
      ]
    },
    {
      "cell_type": "code",
      "metadata": {
        "id": "t5aqdihEZuz9",
        "colab_type": "code",
        "colab": {}
      },
      "source": [
        "from keras.models import load_model\n",
        "new_model=load_model('/content/gdrive/My Drive/Colab Notebooks/collab_trained_smaller.h5')\n"
      ],
      "execution_count": null,
      "outputs": []
    },
    {
      "cell_type": "code",
      "metadata": {
        "id": "kqs_cfRpZ6VX",
        "colab_type": "code",
        "colab": {
          "base_uri": "https://localhost:8080/",
          "height": 1000
        },
        "outputId": "153b7039-97a7-4889-b027-14ed9e36d8fb"
      },
      "source": [
        "new_model.summary()\n"
      ],
      "execution_count": null,
      "outputs": [
        {
          "output_type": "stream",
          "text": [
            "Model: \"model_4\"\n",
            "__________________________________________________________________________________________________\n",
            "Layer (type)                    Output Shape         Param #     Connected to                     \n",
            "==================================================================================================\n",
            "Item (InputLayer)               (None, 1)            0                                            \n",
            "__________________________________________________________________________________________________\n",
            "User (InputLayer)               (None, 1)            0                                            \n",
            "__________________________________________________________________________________________________\n",
            "Movie-Embeddding-MLP (Embedding (None, 1, 100)       16395000    Item[0][0]                       \n",
            "__________________________________________________________________________________________________\n",
            "User_Embedding_MLP (Embedding)  (None, 1, 100)       67200       User[0][0]                       \n",
            "__________________________________________________________________________________________________\n",
            "FlattenMovies-MLP (Flatten)     (None, 100)          0           Movie-Embeddding-MLP[0][0]       \n",
            "__________________________________________________________________________________________________\n",
            "FlattenUser-MLP (Flatten)       (None, 100)          0           User_Embedding_MLP[0][0]         \n",
            "__________________________________________________________________________________________________\n",
            "dropout_16 (Dropout)            (None, 100)          0           FlattenMovies-MLP[0][0]          \n",
            "__________________________________________________________________________________________________\n",
            "dropout_18 (Dropout)            (None, 100)          0           FlattenUser-MLP[0][0]            \n",
            "__________________________________________________________________________________________________\n",
            "Concat (Concatenate)            (None, 200)          0           dropout_16[0][0]                 \n",
            "                                                                 dropout_18[0][0]                 \n",
            "__________________________________________________________________________________________________\n",
            "dropout_20 (Dropout)            (None, 200)          0           Concat[0][0]                     \n",
            "__________________________________________________________________________________________________\n",
            "FullyConnected (Dense)          (None, 200)          40200       dropout_20[0][0]                 \n",
            "__________________________________________________________________________________________________\n",
            "Batch (BatchNormalization)      (None, 200)          800         FullyConnected[0][0]             \n",
            "__________________________________________________________________________________________________\n",
            "Dropout-1 (Dropout)             (None, 200)          0           Batch[0][0]                      \n",
            "__________________________________________________________________________________________________\n",
            "FullyConnected-1 (Dense)        (None, 100)          20100       Dropout-1[0][0]                  \n",
            "__________________________________________________________________________________________________\n",
            "Batch-2 (BatchNormalization)    (None, 100)          400         FullyConnected-1[0][0]           \n",
            "__________________________________________________________________________________________________\n",
            "Movie-Embedding-MF (Embedding)  (None, 1, 100)       16395000    Item[0][0]                       \n",
            "__________________________________________________________________________________________________\n",
            "User-Embedding-MF (Embedding)   (None, 1, 100)       67200       User[0][0]                       \n",
            "__________________________________________________________________________________________________\n",
            "Dropout-2 (Dropout)             (None, 100)          0           Batch-2[0][0]                    \n",
            "__________________________________________________________________________________________________\n",
            "FlattenMovie-MF (Flatten)       (None, 100)          0           Movie-Embedding-MF[0][0]         \n",
            "__________________________________________________________________________________________________\n",
            "FlattenUsers-MF (Flatten)       (None, 100)          0           User-Embedding-MF[0][0]          \n",
            "__________________________________________________________________________________________________\n",
            "FullyConnected-2 (Dense)        (None, 50)           5050        Dropout-2[0][0]                  \n",
            "__________________________________________________________________________________________________\n",
            "dropout_17 (Dropout)            (None, 100)          0           FlattenMovie-MF[0][0]            \n",
            "__________________________________________________________________________________________________\n",
            "dropout_19 (Dropout)            (None, 100)          0           FlattenUsers-MF[0][0]            \n",
            "__________________________________________________________________________________________________\n",
            "FullyConnected-3 (Dense)        (None, 20)           1020        FullyConnected-2[0][0]           \n",
            "__________________________________________________________________________________________________\n",
            "Dot (Dot)                       (None, 1)            0           dropout_17[0][0]                 \n",
            "                                                                 dropout_19[0][0]                 \n",
            "__________________________________________________________________________________________________\n",
            "Activation (Dense)              (None, 1)            21          FullyConnected-3[0][0]           \n",
            "__________________________________________________________________________________________________\n",
            "Concat-MF-MLP (Concatenate)     (None, 2)            0           Dot[0][0]                        \n",
            "                                                                 Activation[0][0]                 \n",
            "__________________________________________________________________________________________________\n",
            "Combine-MF-MLP (Dense)          (None, 100)          300         Concat-MF-MLP[0][0]              \n",
            "__________________________________________________________________________________________________\n",
            "FullyConnected-4 (Dense)        (None, 100)          10100       Combine-MF-MLP[0][0]             \n",
            "__________________________________________________________________________________________________\n",
            "Prediction (Dense)              (None, 1)            101         FullyConnected-4[0][0]           \n",
            "==================================================================================================\n",
            "Total params: 33,002,492\n",
            "Trainable params: 33,001,892\n",
            "Non-trainable params: 600\n",
            "__________________________________________________________________________________________________\n"
          ],
          "name": "stdout"
        }
      ]
    },
    {
      "cell_type": "code",
      "metadata": {
        "id": "fckXQS4KaHBE",
        "colab_type": "code",
        "colab": {}
      },
      "source": [
        ""
      ],
      "execution_count": null,
      "outputs": []
    }
  ]
}