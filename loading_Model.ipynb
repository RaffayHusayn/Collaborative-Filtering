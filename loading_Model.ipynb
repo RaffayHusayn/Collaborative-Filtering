{
  "nbformat": 4,
  "nbformat_minor": 0,
  "metadata": {
    "colab": {
      "name": "loading Model.ipynb",
      "provenance": [],
      "authorship_tag": "ABX9TyOcIb/5CPn6ucb4RzCH9lWw"
    },
    "kernelspec": {
      "name": "python3",
      "display_name": "Python 3"
    }
  },
  "cells": [
    {
      "cell_type": "code",
      "metadata": {
        "id": "9Mh1YVdQMCoP",
        "colab_type": "code",
        "colab": {
          "base_uri": "https://localhost:8080/",
          "height": 121
        },
        "outputId": "4fd531e0-375e-4a33-e2af-08c48dc528a4"
      },
      "source": [
        "from google.colab import drive\n",
        "drive.mount('/content/gdrive')"
      ],
      "execution_count": null,
      "outputs": [
        {
          "output_type": "stream",
          "text": [
            "Go to this URL in a browser: https://accounts.google.com/o/oauth2/auth?client_id=947318989803-6bn6qk8qdgf4n4g3pfee6491hc0brc4i.apps.googleusercontent.com&redirect_uri=urn%3aietf%3awg%3aoauth%3a2.0%3aoob&response_type=code&scope=email%20https%3a%2f%2fwww.googleapis.com%2fauth%2fdocs.test%20https%3a%2f%2fwww.googleapis.com%2fauth%2fdrive%20https%3a%2f%2fwww.googleapis.com%2fauth%2fdrive.photos.readonly%20https%3a%2f%2fwww.googleapis.com%2fauth%2fpeopleapi.readonly\n",
            "\n",
            "Enter your authorization code:\n",
            "··········\n",
            "Mounted at /content/gdrive\n"
          ],
          "name": "stdout"
        }
      ]
    },
    {
      "cell_type": "code",
      "metadata": {
        "id": "JCTX3bN-MGTk",
        "colab_type": "code",
        "colab": {
          "base_uri": "https://localhost:8080/",
          "height": 586
        },
        "outputId": "c822ee76-6e33-49b0-b93c-4c14f6a111ad"
      },
      "source": [
        "from keras.models import load_model\n",
        "new_model=load_model('/content/gdrive/My Drive/Colab Notebooks/collab_trained.h5')\n"
      ],
      "execution_count": null,
      "outputs": [
        {
          "output_type": "stream",
          "text": [
            "Using TensorFlow backend.\n"
          ],
          "name": "stderr"
        },
        {
          "output_type": "display_data",
          "data": {
            "text/html": [
              "<p style=\"color: red;\">\n",
              "The default version of TensorFlow in Colab will soon switch to TensorFlow 2.x.<br>\n",
              "We recommend you <a href=\"https://www.tensorflow.org/guide/migrate\" target=\"_blank\">upgrade</a> now \n",
              "or ensure your notebook will continue to use TensorFlow 1.x via the <code>%tensorflow_version 1.x</code> magic:\n",
              "<a href=\"https://colab.research.google.com/notebooks/tensorflow_version.ipynb\" target=\"_blank\">more info</a>.</p>\n"
            ],
            "text/plain": [
              "<IPython.core.display.HTML object>"
            ]
          },
          "metadata": {
            "tags": []
          }
        },
        {
          "output_type": "stream",
          "text": [
            "WARNING:tensorflow:From /usr/local/lib/python3.6/dist-packages/keras/backend/tensorflow_backend.py:541: The name tf.placeholder is deprecated. Please use tf.compat.v1.placeholder instead.\n",
            "\n",
            "WARNING:tensorflow:From /usr/local/lib/python3.6/dist-packages/keras/backend/tensorflow_backend.py:4432: The name tf.random_uniform is deprecated. Please use tf.random.uniform instead.\n",
            "\n",
            "WARNING:tensorflow:From /usr/local/lib/python3.6/dist-packages/keras/backend/tensorflow_backend.py:66: The name tf.get_default_graph is deprecated. Please use tf.compat.v1.get_default_graph instead.\n",
            "\n",
            "WARNING:tensorflow:From /usr/local/lib/python3.6/dist-packages/keras/backend/tensorflow_backend.py:148: The name tf.placeholder_with_default is deprecated. Please use tf.compat.v1.placeholder_with_default instead.\n",
            "\n",
            "WARNING:tensorflow:From /usr/local/lib/python3.6/dist-packages/keras/backend/tensorflow_backend.py:3733: calling dropout (from tensorflow.python.ops.nn_ops) with keep_prob is deprecated and will be removed in a future version.\n",
            "Instructions for updating:\n",
            "Please use `rate` instead of `keep_prob`. Rate should be set to `rate = 1 - keep_prob`.\n",
            "WARNING:tensorflow:From /usr/local/lib/python3.6/dist-packages/keras/backend/tensorflow_backend.py:190: The name tf.get_default_session is deprecated. Please use tf.compat.v1.get_default_session instead.\n",
            "\n",
            "WARNING:tensorflow:From /usr/local/lib/python3.6/dist-packages/keras/backend/tensorflow_backend.py:197: The name tf.ConfigProto is deprecated. Please use tf.compat.v1.ConfigProto instead.\n",
            "\n",
            "WARNING:tensorflow:From /usr/local/lib/python3.6/dist-packages/keras/backend/tensorflow_backend.py:203: The name tf.Session is deprecated. Please use tf.compat.v1.Session instead.\n",
            "\n",
            "WARNING:tensorflow:From /usr/local/lib/python3.6/dist-packages/keras/backend/tensorflow_backend.py:207: The name tf.global_variables is deprecated. Please use tf.compat.v1.global_variables instead.\n",
            "\n",
            "WARNING:tensorflow:From /usr/local/lib/python3.6/dist-packages/keras/backend/tensorflow_backend.py:216: The name tf.is_variable_initialized is deprecated. Please use tf.compat.v1.is_variable_initialized instead.\n",
            "\n",
            "WARNING:tensorflow:From /usr/local/lib/python3.6/dist-packages/keras/backend/tensorflow_backend.py:223: The name tf.variables_initializer is deprecated. Please use tf.compat.v1.variables_initializer instead.\n",
            "\n",
            "WARNING:tensorflow:From /usr/local/lib/python3.6/dist-packages/keras/optimizers.py:793: The name tf.train.Optimizer is deprecated. Please use tf.compat.v1.train.Optimizer instead.\n",
            "\n",
            "WARNING:tensorflow:From /usr/local/lib/python3.6/dist-packages/keras/backend/tensorflow_backend.py:1033: The name tf.assign_add is deprecated. Please use tf.compat.v1.assign_add instead.\n",
            "\n",
            "WARNING:tensorflow:From /usr/local/lib/python3.6/dist-packages/keras/backend/tensorflow_backend.py:1020: The name tf.assign is deprecated. Please use tf.compat.v1.assign instead.\n",
            "\n"
          ],
          "name": "stdout"
        }
      ]
    },
    {
      "cell_type": "code",
      "metadata": {
        "id": "cwt7SEILODEF",
        "colab_type": "code",
        "colab": {
          "base_uri": "https://localhost:8080/",
          "height": 1000
        },
        "outputId": "8d3ff085-c372-4040-d8e9-832503993e08"
      },
      "source": [
        "new_model.summary()"
      ],
      "execution_count": null,
      "outputs": [
        {
          "output_type": "stream",
          "text": [
            "Model: \"model_1\"\n",
            "__________________________________________________________________________________________________\n",
            "Layer (type)                    Output Shape         Param #     Connected to                     \n",
            "==================================================================================================\n",
            "Item (InputLayer)               (None, 1)            0                                            \n",
            "__________________________________________________________________________________________________\n",
            "User (InputLayer)               (None, 1)            0                                            \n",
            "__________________________________________________________________________________________________\n",
            "Movie-Embeddding-MLP (Embedding (None, 1, 100)       906700      Item[0][0]                       \n",
            "__________________________________________________________________________________________________\n",
            "User_Embedding_MLP (Embedding)  (None, 1, 100)       67200       User[0][0]                       \n",
            "__________________________________________________________________________________________________\n",
            "FlattenMovies-MLP (Flatten)     (None, 100)          0           Movie-Embeddding-MLP[0][0]       \n",
            "__________________________________________________________________________________________________\n",
            "FlattenUser-MLP (Flatten)       (None, 100)          0           User_Embedding_MLP[0][0]         \n",
            "__________________________________________________________________________________________________\n",
            "dropout_1 (Dropout)             (None, 100)          0           FlattenMovies-MLP[0][0]          \n",
            "__________________________________________________________________________________________________\n",
            "dropout_3 (Dropout)             (None, 100)          0           FlattenUser-MLP[0][0]            \n",
            "__________________________________________________________________________________________________\n",
            "Concat (Concatenate)            (None, 200)          0           dropout_1[0][0]                  \n",
            "                                                                 dropout_3[0][0]                  \n",
            "__________________________________________________________________________________________________\n",
            "dropout_5 (Dropout)             (None, 200)          0           Concat[0][0]                     \n",
            "__________________________________________________________________________________________________\n",
            "FullyConnected (Dense)          (None, 200)          40200       dropout_5[0][0]                  \n",
            "__________________________________________________________________________________________________\n",
            "Batch (BatchNormalization)      (None, 200)          800         FullyConnected[0][0]             \n",
            "__________________________________________________________________________________________________\n",
            "Dropout-1 (Dropout)             (None, 200)          0           Batch[0][0]                      \n",
            "__________________________________________________________________________________________________\n",
            "FullyConnected-1 (Dense)        (None, 100)          20100       Dropout-1[0][0]                  \n",
            "__________________________________________________________________________________________________\n",
            "Batch-2 (BatchNormalization)    (None, 100)          400         FullyConnected-1[0][0]           \n",
            "__________________________________________________________________________________________________\n",
            "Movie-Embedding-MF (Embedding)  (None, 1, 100)       906700      Item[0][0]                       \n",
            "__________________________________________________________________________________________________\n",
            "User-Embedding-MF (Embedding)   (None, 1, 100)       67200       User[0][0]                       \n",
            "__________________________________________________________________________________________________\n",
            "Dropout-2 (Dropout)             (None, 100)          0           Batch-2[0][0]                    \n",
            "__________________________________________________________________________________________________\n",
            "FlattenMovie-MF (Flatten)       (None, 100)          0           Movie-Embedding-MF[0][0]         \n",
            "__________________________________________________________________________________________________\n",
            "FlattenUsers-MF (Flatten)       (None, 100)          0           User-Embedding-MF[0][0]          \n",
            "__________________________________________________________________________________________________\n",
            "FullyConnected-2 (Dense)        (None, 50)           5050        Dropout-2[0][0]                  \n",
            "__________________________________________________________________________________________________\n",
            "dropout_2 (Dropout)             (None, 100)          0           FlattenMovie-MF[0][0]            \n",
            "__________________________________________________________________________________________________\n",
            "dropout_4 (Dropout)             (None, 100)          0           FlattenUsers-MF[0][0]            \n",
            "__________________________________________________________________________________________________\n",
            "FullyConnected-3 (Dense)        (None, 20)           1020        FullyConnected-2[0][0]           \n",
            "__________________________________________________________________________________________________\n",
            "Dot (Dot)                       (None, 1)            0           dropout_2[0][0]                  \n",
            "                                                                 dropout_4[0][0]                  \n",
            "__________________________________________________________________________________________________\n",
            "Activation (Dense)              (None, 1)            21          FullyConnected-3[0][0]           \n",
            "__________________________________________________________________________________________________\n",
            "Concat-MF-MLP (Concatenate)     (None, 2)            0           Dot[0][0]                        \n",
            "                                                                 Activation[0][0]                 \n",
            "__________________________________________________________________________________________________\n",
            "Combine-MF-MLP (Dense)          (None, 100)          300         Concat-MF-MLP[0][0]              \n",
            "__________________________________________________________________________________________________\n",
            "FullyConnected-4 (Dense)        (None, 100)          10100       Combine-MF-MLP[0][0]             \n",
            "__________________________________________________________________________________________________\n",
            "Prediction (Dense)              (None, 1)            101         FullyConnected-4[0][0]           \n",
            "==================================================================================================\n",
            "Total params: 2,025,892\n",
            "Trainable params: 2,025,292\n",
            "Non-trainable params: 600\n",
            "__________________________________________________________________________________________________\n"
          ],
          "name": "stdout"
        }
      ]
    },
    {
      "cell_type": "code",
      "metadata": {
        "id": "KiQsUB3RMVCY",
        "colab_type": "code",
        "colab": {}
      },
      "source": [
        "import numpy as np\n",
        "testUser=np.array([384,553])\n",
        "testMovie= np.array([3623,1210])\n",
        "something= new_model.predict([testUser,testMovie])"
      ],
      "execution_count": null,
      "outputs": []
    },
    {
      "cell_type": "code",
      "metadata": {
        "id": "nsUs17M9OAHt",
        "colab_type": "code",
        "colab": {
          "base_uri": "https://localhost:8080/",
          "height": 50
        },
        "outputId": "346d1705-6296-45cc-a8d7-9570d9d64306"
      },
      "source": [
        "print(something)"
      ],
      "execution_count": null,
      "outputs": [
        {
          "output_type": "stream",
          "text": [
            "[[3.5300734]\n",
            " [4.568511 ]]\n"
          ],
          "name": "stdout"
        }
      ]
    },
    {
      "cell_type": "code",
      "metadata": {
        "id": "PB1EvuNeMuP6",
        "colab_type": "code",
        "colab": {}
      },
      "source": [
        ""
      ],
      "execution_count": null,
      "outputs": []
    }
  ]
}